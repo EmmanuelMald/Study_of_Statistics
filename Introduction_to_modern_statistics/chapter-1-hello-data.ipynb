{
 "cells": [
  {
   "cell_type": "markdown",
   "metadata": {},
   "source": [
    "# **Introduction to Modern Statistics**\n",
    "## Chapter 1: Hello Data"
   ]
  },
  {
   "cell_type": "markdown",
   "metadata": {},
   "source": [
    "### **Statistics is the study of how best to collect, analyze, and dran conclusions from data**"
   ]
  },
  {
   "cell_type": "markdown",
   "metadata": {},
   "source": [
    "#### **Practical example of the use and importance of statistics**: \n",
    "\n",
    "An experiment is designed to study the effectiveness of stents in treating patients at risk of stroke\n",
    "(Chimowitz et al., 2011). Stents are small mesh tubes that are placed inside narrow or weak arteries\n",
    "to assist in patient recovery after cardiac events and reduce the risk of an additional heart attack or\n",
    "death.\n",
    "\n",
    "Many doctors have hoped that there would be similar benefits for patients at risk of stroke. We start\n",
    "by writing the principal question the researchers hope to answer:\n",
    "\n",
    "#### **Does the use of stents reduce the risk of stroke?**\n",
    "The researchers who asked this question conducted an experiment with 451 at-risk patients. Each\n",
    "volunteer patient was randomly assigned to one of two groups:\n",
    "• Treatment group. Patients in the treatment group received a stent and medical management.\n",
    "The medical management included medications, management of risk factors, and help in lifestyle\n",
    "modification.\n",
    "• Control group. Patients in the control group received the same medical management as the\n",
    "treatment group, but they did not receive stents.\n",
    "Researchers randomly assigned 224 patients to the treatment group and 227 to the control group. In\n",
    "this study, the control group provides a reference point against which we can measure the medical\n",
    "impact of stents in the treatment group.\n",
    "\n",
    "Researchers studied the effect of stents at two time points: 30 days after enrollment and 365 days\n",
    "after enrollment. The results of 5 patients are summarized in Table 1.1. Patient outcomes are\n",
    "recorded as stroke or no event, representing whether or not the patient had a stroke during that\n",
    "time period.\n",
    "\n",
    "It would be difficult to answer a question on the impact of stents on the occurrence of strokes for\n",
    "all of the study patients using these individual observations. This question is better addressed by\n",
    "performing a statistical data analysis of all of the observations.\n"
   ]
  },
  {
   "cell_type": "code",
   "execution_count": 10,
   "metadata": {},
   "outputs": [],
   "source": [
    "import pandas as pd\n",
    "import numpy as np"
   ]
  },
  {
   "cell_type": "code",
   "execution_count": 4,
   "metadata": {},
   "outputs": [],
   "source": [
    "stent30 = pd.read_csv(\"stent30.csv\")\n",
    "stent365 = pd.read_csv(\"stent365.csv\")"
   ]
  },
  {
   "cell_type": "code",
   "execution_count": 8,
   "metadata": {},
   "outputs": [
    {
     "name": "stdout",
     "output_type": "stream",
     "text": [
      "stent30 dataset lenght: 451\n"
     ]
    },
    {
     "data": {
      "text/html": [
       "<div>\n",
       "<style scoped>\n",
       "    .dataframe tbody tr th:only-of-type {\n",
       "        vertical-align: middle;\n",
       "    }\n",
       "\n",
       "    .dataframe tbody tr th {\n",
       "        vertical-align: top;\n",
       "    }\n",
       "\n",
       "    .dataframe thead th {\n",
       "        text-align: right;\n",
       "    }\n",
       "</style>\n",
       "<table border=\"1\" class=\"dataframe\">\n",
       "  <thead>\n",
       "    <tr style=\"text-align: right;\">\n",
       "      <th></th>\n",
       "      <th>group</th>\n",
       "      <th>outcome</th>\n",
       "    </tr>\n",
       "  </thead>\n",
       "  <tbody>\n",
       "    <tr>\n",
       "      <th>0</th>\n",
       "      <td>treatment</td>\n",
       "      <td>stroke</td>\n",
       "    </tr>\n",
       "    <tr>\n",
       "      <th>1</th>\n",
       "      <td>treatment</td>\n",
       "      <td>stroke</td>\n",
       "    </tr>\n",
       "    <tr>\n",
       "      <th>2</th>\n",
       "      <td>treatment</td>\n",
       "      <td>stroke</td>\n",
       "    </tr>\n",
       "    <tr>\n",
       "      <th>3</th>\n",
       "      <td>treatment</td>\n",
       "      <td>stroke</td>\n",
       "    </tr>\n",
       "    <tr>\n",
       "      <th>4</th>\n",
       "      <td>treatment</td>\n",
       "      <td>stroke</td>\n",
       "    </tr>\n",
       "  </tbody>\n",
       "</table>\n",
       "</div>"
      ],
      "text/plain": [
       "       group outcome\n",
       "0  treatment  stroke\n",
       "1  treatment  stroke\n",
       "2  treatment  stroke\n",
       "3  treatment  stroke\n",
       "4  treatment  stroke"
      ]
     },
     "execution_count": 8,
     "metadata": {},
     "output_type": "execute_result"
    }
   ],
   "source": [
    "print(f\"stent30 dataset lenght: {len(stent30)}\")\n",
    "stent30.head()"
   ]
  },
  {
   "cell_type": "code",
   "execution_count": 9,
   "metadata": {},
   "outputs": [
    {
     "name": "stdout",
     "output_type": "stream",
     "text": [
      "stent30 dataset lenght: 451\n"
     ]
    },
    {
     "data": {
      "text/html": [
       "<div>\n",
       "<style scoped>\n",
       "    .dataframe tbody tr th:only-of-type {\n",
       "        vertical-align: middle;\n",
       "    }\n",
       "\n",
       "    .dataframe tbody tr th {\n",
       "        vertical-align: top;\n",
       "    }\n",
       "\n",
       "    .dataframe thead th {\n",
       "        text-align: right;\n",
       "    }\n",
       "</style>\n",
       "<table border=\"1\" class=\"dataframe\">\n",
       "  <thead>\n",
       "    <tr style=\"text-align: right;\">\n",
       "      <th></th>\n",
       "      <th>group</th>\n",
       "      <th>outcome</th>\n",
       "    </tr>\n",
       "  </thead>\n",
       "  <tbody>\n",
       "    <tr>\n",
       "      <th>0</th>\n",
       "      <td>treatment</td>\n",
       "      <td>stroke</td>\n",
       "    </tr>\n",
       "    <tr>\n",
       "      <th>1</th>\n",
       "      <td>treatment</td>\n",
       "      <td>stroke</td>\n",
       "    </tr>\n",
       "    <tr>\n",
       "      <th>2</th>\n",
       "      <td>treatment</td>\n",
       "      <td>stroke</td>\n",
       "    </tr>\n",
       "    <tr>\n",
       "      <th>3</th>\n",
       "      <td>treatment</td>\n",
       "      <td>stroke</td>\n",
       "    </tr>\n",
       "    <tr>\n",
       "      <th>4</th>\n",
       "      <td>treatment</td>\n",
       "      <td>stroke</td>\n",
       "    </tr>\n",
       "  </tbody>\n",
       "</table>\n",
       "</div>"
      ],
      "text/plain": [
       "       group outcome\n",
       "0  treatment  stroke\n",
       "1  treatment  stroke\n",
       "2  treatment  stroke\n",
       "3  treatment  stroke\n",
       "4  treatment  stroke"
      ]
     },
     "execution_count": 9,
     "metadata": {},
     "output_type": "execute_result"
    }
   ],
   "source": [
    "print(f\"stent30 dataset lenght: {len(stent365)}\")\n",
    "stent365.head()"
   ]
  },
  {
   "cell_type": "code",
   "execution_count": 49,
   "metadata": {},
   "outputs": [
    {
     "data": {
      "text/html": [
       "<div>\n",
       "<style scoped>\n",
       "    .dataframe tbody tr th:only-of-type {\n",
       "        vertical-align: middle;\n",
       "    }\n",
       "\n",
       "    .dataframe tbody tr th {\n",
       "        vertical-align: top;\n",
       "    }\n",
       "\n",
       "    .dataframe thead th {\n",
       "        text-align: right;\n",
       "    }\n",
       "</style>\n",
       "<table border=\"1\" class=\"dataframe\">\n",
       "  <thead>\n",
       "    <tr style=\"text-align: right;\">\n",
       "      <th></th>\n",
       "      <th>group</th>\n",
       "      <th>outcome</th>\n",
       "      <th>total</th>\n",
       "      <th>total per group</th>\n",
       "    </tr>\n",
       "  </thead>\n",
       "  <tbody>\n",
       "    <tr>\n",
       "      <th>0</th>\n",
       "      <td>control</td>\n",
       "      <td>no event</td>\n",
       "      <td>214</td>\n",
       "      <td>227</td>\n",
       "    </tr>\n",
       "    <tr>\n",
       "      <th>1</th>\n",
       "      <td>control</td>\n",
       "      <td>stroke</td>\n",
       "      <td>13</td>\n",
       "      <td>227</td>\n",
       "    </tr>\n",
       "    <tr>\n",
       "      <th>2</th>\n",
       "      <td>treatment</td>\n",
       "      <td>no event</td>\n",
       "      <td>191</td>\n",
       "      <td>224</td>\n",
       "    </tr>\n",
       "    <tr>\n",
       "      <th>3</th>\n",
       "      <td>treatment</td>\n",
       "      <td>stroke</td>\n",
       "      <td>33</td>\n",
       "      <td>224</td>\n",
       "    </tr>\n",
       "  </tbody>\n",
       "</table>\n",
       "</div>"
      ],
      "text/plain": [
       "       group   outcome  total  total per group\n",
       "0    control  no event    214              227\n",
       "1    control    stroke     13              227\n",
       "2  treatment  no event    191              224\n",
       "3  treatment    stroke     33              224"
      ]
     },
     "execution_count": 49,
     "metadata": {},
     "output_type": "execute_result"
    }
   ],
   "source": [
    "df=stent30.groupby([\"group\",\"outcome\"], as_index=False).value_counts()\n",
    "df.rename(columns = {\"count\":\"total\"}, inplace=True)\n",
    "df.groupby(\"group\").total.sum()\n",
    "df[\"total per group\"] = df.group.map({\"control\":df[df.group == \"control\"].total.sum(),\n",
    "                                      \"treatment\": df[df.group == \"treatment\"].total.sum()})\n",
    "df"
   ]
  },
  {
   "cell_type": "code",
   "execution_count": 50,
   "metadata": {},
   "outputs": [
    {
     "data": {
      "text/plain": [
       "{'control': 227, 'treatment': 224}"
      ]
     },
     "execution_count": 50,
     "metadata": {},
     "output_type": "execute_result"
    }
   ],
   "source": [
    "groups={}\n",
    "for cat in df.group:\n",
    "    groups[cat] = df[df.group == cat].total.sum()\n",
    "groups"
   ]
  },
  {
   "cell_type": "code",
   "execution_count": 57,
   "metadata": {},
   "outputs": [
    {
     "data": {
      "text/html": [
       "<div>\n",
       "<style scoped>\n",
       "    .dataframe tbody tr th:only-of-type {\n",
       "        vertical-align: middle;\n",
       "    }\n",
       "\n",
       "    .dataframe tbody tr th {\n",
       "        vertical-align: top;\n",
       "    }\n",
       "\n",
       "    .dataframe thead th {\n",
       "        text-align: right;\n",
       "    }\n",
       "</style>\n",
       "<table border=\"1\" class=\"dataframe\">\n",
       "  <thead>\n",
       "    <tr style=\"text-align: right;\">\n",
       "      <th></th>\n",
       "      <th>group</th>\n",
       "      <th>outcome</th>\n",
       "      <th>total</th>\n",
       "      <th>total per group</th>\n",
       "      <th>total con dictionary</th>\n",
       "      <th>percentages</th>\n",
       "    </tr>\n",
       "  </thead>\n",
       "  <tbody>\n",
       "    <tr>\n",
       "      <th>0</th>\n",
       "      <td>control</td>\n",
       "      <td>no event</td>\n",
       "      <td>214</td>\n",
       "      <td>227</td>\n",
       "      <td>227</td>\n",
       "      <td>94.273</td>\n",
       "    </tr>\n",
       "    <tr>\n",
       "      <th>1</th>\n",
       "      <td>control</td>\n",
       "      <td>stroke</td>\n",
       "      <td>13</td>\n",
       "      <td>227</td>\n",
       "      <td>227</td>\n",
       "      <td>5.727</td>\n",
       "    </tr>\n",
       "    <tr>\n",
       "      <th>2</th>\n",
       "      <td>treatment</td>\n",
       "      <td>no event</td>\n",
       "      <td>191</td>\n",
       "      <td>224</td>\n",
       "      <td>224</td>\n",
       "      <td>85.268</td>\n",
       "    </tr>\n",
       "    <tr>\n",
       "      <th>3</th>\n",
       "      <td>treatment</td>\n",
       "      <td>stroke</td>\n",
       "      <td>33</td>\n",
       "      <td>224</td>\n",
       "      <td>224</td>\n",
       "      <td>14.732</td>\n",
       "    </tr>\n",
       "  </tbody>\n",
       "</table>\n",
       "</div>"
      ],
      "text/plain": [
       "       group   outcome  total  total per group  total con dictionary  \\\n",
       "0    control  no event    214              227                   227   \n",
       "1    control    stroke     13              227                   227   \n",
       "2  treatment  no event    191              224                   224   \n",
       "3  treatment    stroke     33              224                   224   \n",
       "\n",
       "   percentages  \n",
       "0       94.273  \n",
       "1        5.727  \n",
       "2       85.268  \n",
       "3       14.732  "
      ]
     },
     "execution_count": 57,
     "metadata": {},
     "output_type": "execute_result"
    }
   ],
   "source": [
    "df[\"total con dictionary\"] = df.group.map(groups)\n",
    "df[\"percentages\"] = round(100*df.total/df[\"total per group\"],3)\n",
    "df"
   ]
  },
  {
   "cell_type": "code",
   "execution_count": 58,
   "metadata": {},
   "outputs": [],
   "source": [
    "df=stent365.groupby([\"group\",\"outcome\"], as_index=False).value_counts()\n",
    "df.rename(columns = {\"count\":\"total\"}, inplace=True)\n",
    "df.groupby(\"group\").total.sum()\n",
    "df[\"total per group\"] = df.group.map({\"control\":df[df.group == \"control\"].total.sum(),\n",
    "                                      \"treatment\": df[df.group == \"treatment\"].total.sum()})"
   ]
  },
  {
   "cell_type": "code",
   "execution_count": 60,
   "metadata": {},
   "outputs": [
    {
     "data": {
      "text/html": [
       "<div>\n",
       "<style scoped>\n",
       "    .dataframe tbody tr th:only-of-type {\n",
       "        vertical-align: middle;\n",
       "    }\n",
       "\n",
       "    .dataframe tbody tr th {\n",
       "        vertical-align: top;\n",
       "    }\n",
       "\n",
       "    .dataframe thead th {\n",
       "        text-align: right;\n",
       "    }\n",
       "</style>\n",
       "<table border=\"1\" class=\"dataframe\">\n",
       "  <thead>\n",
       "    <tr style=\"text-align: right;\">\n",
       "      <th></th>\n",
       "      <th>group</th>\n",
       "      <th>outcome</th>\n",
       "      <th>total</th>\n",
       "      <th>total per group</th>\n",
       "      <th>percentages</th>\n",
       "    </tr>\n",
       "  </thead>\n",
       "  <tbody>\n",
       "    <tr>\n",
       "      <th>0</th>\n",
       "      <td>control</td>\n",
       "      <td>no event</td>\n",
       "      <td>199</td>\n",
       "      <td>227</td>\n",
       "      <td>87.665</td>\n",
       "    </tr>\n",
       "    <tr>\n",
       "      <th>1</th>\n",
       "      <td>control</td>\n",
       "      <td>stroke</td>\n",
       "      <td>28</td>\n",
       "      <td>227</td>\n",
       "      <td>12.335</td>\n",
       "    </tr>\n",
       "    <tr>\n",
       "      <th>2</th>\n",
       "      <td>treatment</td>\n",
       "      <td>no event</td>\n",
       "      <td>179</td>\n",
       "      <td>224</td>\n",
       "      <td>79.911</td>\n",
       "    </tr>\n",
       "    <tr>\n",
       "      <th>3</th>\n",
       "      <td>treatment</td>\n",
       "      <td>stroke</td>\n",
       "      <td>45</td>\n",
       "      <td>224</td>\n",
       "      <td>20.089</td>\n",
       "    </tr>\n",
       "  </tbody>\n",
       "</table>\n",
       "</div>"
      ],
      "text/plain": [
       "       group   outcome  total  total per group  percentages\n",
       "0    control  no event    199              227       87.665\n",
       "1    control    stroke     28              227       12.335\n",
       "2  treatment  no event    179              224       79.911\n",
       "3  treatment    stroke     45              224       20.089"
      ]
     },
     "execution_count": 60,
     "metadata": {},
     "output_type": "execute_result"
    }
   ],
   "source": [
    "df[\"percentages\"] = round(100*df.total/df[\"total per group\"],3)\n",
    "df"
   ]
  },
  {
   "cell_type": "markdown",
   "metadata": {},
   "source": [
    "These two summary statistics are useful in looking for differences in the groups, and we are in for a\n",
    "surprise: an additional 8% of patients in the treatment group had a stroke! This is important for two\n",
    "reasons. First, it is contrary to what doctors expected, which was that stents would reduce the rate\n",
    "of strokes. Second, it leads to a statistical question: do the data show a “real” difference between the\n",
    "groups?\n",
    "\n",
    "This second question is subtle. Suppose you flip a coin 100 times. While the chance a coin lands\n",
    "heads in any given coin flip is 50%, we probably won’t observe exactly 50 heads. This type of\n",
    "variation is part of almost any type of data generating process. It is possible that the 8% difference\n",
    "in the stent study is due to this natural variation. However, the larger the difference we observe (for\n",
    "a particular sample size), the less believable it is that the difference is due to chance. So what we are\n",
    "really asking is the following: if in fact stents have no effect, how likely is it that we observe such a\n",
    "large difference?\n",
    "\n",
    "While we don’t yet have statistical tools to fully address this question on our own, we can comprehend\n",
    "the conclusions of the published analysis: there was compelling evidence of harm by stents in this\n",
    "study of stroke patients.\n",
    "Be careful: Do not generalize the results of this study to all patients and all stents. This study\n",
    "looked at patients with very specific characteristics who volunteered to be a part of this study and\n",
    "who may not be representative of all stroke patients. In addition, there are many types of stents\n",
    "and this study only considered the self-expanding Wingspan stent (Boston Scientific). However, this\n",
    "study does leave us with an important lesson: **we should keep our eyes open for surprises**."
   ]
  },
  {
   "cell_type": "markdown",
   "metadata": {},
   "source": [
    "#### **Data basics**"
   ]
  },
  {
   "cell_type": "markdown",
   "metadata": {},
   "source": [
    "##### **Observations, variables and data matrices - datasets**"
   ]
  },
  {
   "cell_type": "markdown",
   "metadata": {},
   "source": [
    "- The formal name of a row is a case or **observational unit**\n",
    "\n",
    "- The formal name of a column is a **variable**\n",
    "\n",
    "It is important to ask clarifying questions to ensure important aspects of the data are understood. **Its important that we know what each variable means and its units of measurement**"
   ]
  },
  {
   "cell_type": "markdown",
   "metadata": {},
   "source": [
    "##### **Types of variables**"
   ]
  },
  {
   "attachments": {
    "image.png": {
     "image/png": "[encoded data removed]"
    }
   },
   "cell_type": "markdown",
   "metadata": {},
   "source": [
    "![image.png](attachment:image.png)\n",
    "\n",
    "- #### **nominal** variables are those types of categories that doesn't have a natural order. Ex. States: [DC, Texas, etc]\n",
    "\n",
    "- #### **ordinal** variables are those types of categories that has a natural order. Ex. Level of education: [primary school, some college, bachelors]"
   ]
  },
  {
   "cell_type": "markdown",
   "metadata": {},
   "source": [
    "#### **Observational studies and experiments**"
   ]
  },
  {
   "cell_type": "markdown",
   "metadata": {},
   "source": [
    "There are two primary types of data collection: **experiments** and **observational** studies.\n",
    "\n",
    "- **Experiments**:\n",
    "\n",
    "    Are used when we want to **evaluate the effect of particular traits, treatments, or conditions**.\n",
    "\n",
    "    Researches identify a sample of individuals and split them into groups. The individuals in each group might be randomly assigned to a group - **randomized experiment** - making the groups roughly equal on all aspects, thus allowing us to control for any confounding variables that might affect the outcome. \n",
    "\n",
    "- **Observational**:\n",
    "\n",
    "    Are used when we want to **form hypotheses** about why certain things happens. Researches merely observe the data that arise.\n",
    "    \n",
    "    Observational studies can provide evidence of a naturally occurring association between variables, but they cannot by themselfs show a casual connection as they don't offer a mechanism for controlling for confounding variables.\n",
    "\n",
    "\n",
    "##### **ASSOCIATION != CAUSATION**\n",
    "\n",
    "In general, association does not imply causation. **An advantage of a randomized experiment is that is easier to estabish causal relationships with such a study**. The main reason for this is that observational studies do not control for confounding variables, and hence establishing causal relationships with observational studies requires advanced statistical methods. \n",
    "\n",
    "\n",
    "\n"
   ]
  }
 ],
 "metadata": {
  "kernelspec": {
   "display_name": "Python 3",
   "language": "python",
   "name": "python3"
  },
  "language_info": {
   "codemirror_mode": {
    "name": "ipython",
    "version": 3
   },
   "file_extension": ".py",
   "mimetype": "text/x-python",
   "name": "python",
   "nbconvert_exporter": "python",
   "pygments_lexer": "ipython3",
   "version": "3.11.4"
  }
 },
 "nbformat": 4,
 "nbformat_minor": 2
}
